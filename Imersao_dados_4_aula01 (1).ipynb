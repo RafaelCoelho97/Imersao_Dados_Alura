{
 "cells": [
  {
   "cell_type": "code",
   "execution_count": 1,
   "metadata": {
    "id": "9mOMKiGaHKCd"
   },
   "outputs": [],
   "source": [
    "import pandas as pd\n",
    "url = \"https://gist.githubusercontent.com/tgcsantos/3bdb29eba6ce391e90df2b72205ba891/raw/22fa920e80c9fa209a9fccc8b52d74cc95d1599b/dados_imoveis.csv\"\n",
    "dados = pd.read_csv(url)"
   ]
  },
  {
   "cell_type": "code",
   "execution_count": 2,
   "metadata": {
    "colab": {
     "base_uri": "https://localhost:8080/",
     "height": 206
    },
    "id": "BR13UINgHPk8",
    "outputId": "0dc3c92b-a652-4a3b-f631-aff8a9dfad66"
   },
   "outputs": [
    {
     "data": {
      "text/html": [
       "<div>\n",
       "<style scoped>\n",
       "    .dataframe tbody tr th:only-of-type {\n",
       "        vertical-align: middle;\n",
       "    }\n",
       "\n",
       "    .dataframe tbody tr th {\n",
       "        vertical-align: top;\n",
       "    }\n",
       "\n",
       "    .dataframe thead th {\n",
       "        text-align: right;\n",
       "    }\n",
       "</style>\n",
       "<table border=\"1\" class=\"dataframe\">\n",
       "  <thead>\n",
       "    <tr style=\"text-align: right;\">\n",
       "      <th></th>\n",
       "      <th>Rua</th>\n",
       "      <th>Bairro</th>\n",
       "      <th>Cidade</th>\n",
       "      <th>Metragem</th>\n",
       "      <th>Quartos</th>\n",
       "      <th>Banheiros</th>\n",
       "      <th>Vagas</th>\n",
       "      <th>Valor</th>\n",
       "    </tr>\n",
       "  </thead>\n",
       "  <tbody>\n",
       "    <tr>\n",
       "      <th>0</th>\n",
       "      <td>Avenida Itacira, 255</td>\n",
       "      <td>Planalto Paulista</td>\n",
       "      <td>São Paulo</td>\n",
       "      <td>1000</td>\n",
       "      <td>4</td>\n",
       "      <td>8</td>\n",
       "      <td>6</td>\n",
       "      <td>R$ 7.000.000</td>\n",
       "    </tr>\n",
       "    <tr>\n",
       "      <th>1</th>\n",
       "      <td>Rua Aurelia Perez Alvarez, 42</td>\n",
       "      <td>Jardim dos Estados</td>\n",
       "      <td>São Paulo</td>\n",
       "      <td>496</td>\n",
       "      <td>4</td>\n",
       "      <td>4</td>\n",
       "      <td>4</td>\n",
       "      <td>R$ 3.700.000</td>\n",
       "    </tr>\n",
       "    <tr>\n",
       "      <th>2</th>\n",
       "      <td>Rua Alba Valdez</td>\n",
       "      <td>Jardim Reimberg</td>\n",
       "      <td>São Paulo</td>\n",
       "      <td>125</td>\n",
       "      <td>4</td>\n",
       "      <td>3</td>\n",
       "      <td>2</td>\n",
       "      <td>R$ 380.000</td>\n",
       "    </tr>\n",
       "    <tr>\n",
       "      <th>3</th>\n",
       "      <td>NaN</td>\n",
       "      <td>Jardim Morumbi</td>\n",
       "      <td>São Paulo</td>\n",
       "      <td>310</td>\n",
       "      <td>3</td>\n",
       "      <td>2</td>\n",
       "      <td>4</td>\n",
       "      <td>R$ 685.000</td>\n",
       "    </tr>\n",
       "    <tr>\n",
       "      <th>4</th>\n",
       "      <td>Rua Tobias Barreto, 195</td>\n",
       "      <td>Mooca</td>\n",
       "      <td>São Paulo</td>\n",
       "      <td>100</td>\n",
       "      <td>3</td>\n",
       "      <td>2</td>\n",
       "      <td>2</td>\n",
       "      <td>R$ 540.000</td>\n",
       "    </tr>\n",
       "  </tbody>\n",
       "</table>\n",
       "</div>"
      ],
      "text/plain": [
       "                              Rua              Bairro     Cidade  Metragem  \\\n",
       "0           Avenida Itacira, 255    Planalto Paulista  São Paulo      1000   \n",
       "1  Rua Aurelia Perez Alvarez, 42   Jardim dos Estados  São Paulo       496   \n",
       "2                 Rua Alba Valdez     Jardim Reimberg  São Paulo       125   \n",
       "3                             NaN      Jardim Morumbi  São Paulo       310   \n",
       "4        Rua Tobias Barreto, 195                Mooca  São Paulo       100   \n",
       "\n",
       "   Quartos  Banheiros  Vagas         Valor  \n",
       "0        4          8      6  R$ 7.000.000  \n",
       "1        4          4      4  R$ 3.700.000  \n",
       "2        4          3      2    R$ 380.000  \n",
       "3        3          2      4    R$ 685.000  \n",
       "4        3          2      2    R$ 540.000  "
      ]
     },
     "execution_count": 2,
     "metadata": {},
     "output_type": "execute_result"
    }
   ],
   "source": [
    "dados.head()"
   ]
  },
  {
   "cell_type": "code",
   "execution_count": 3,
   "metadata": {
    "colab": {
     "base_uri": "https://localhost:8080/",
     "height": 363
    },
    "id": "BtAIuaiUHP6V",
    "outputId": "97291f19-5286-4626-a07e-a40316b2f41a"
   },
   "outputs": [
    {
     "data": {
      "text/html": [
       "<div>\n",
       "<style scoped>\n",
       "    .dataframe tbody tr th:only-of-type {\n",
       "        vertical-align: middle;\n",
       "    }\n",
       "\n",
       "    .dataframe tbody tr th {\n",
       "        vertical-align: top;\n",
       "    }\n",
       "\n",
       "    .dataframe thead th {\n",
       "        text-align: right;\n",
       "    }\n",
       "</style>\n",
       "<table border=\"1\" class=\"dataframe\">\n",
       "  <thead>\n",
       "    <tr style=\"text-align: right;\">\n",
       "      <th></th>\n",
       "      <th>Rua</th>\n",
       "      <th>Bairro</th>\n",
       "      <th>Cidade</th>\n",
       "      <th>Metragem</th>\n",
       "      <th>Quartos</th>\n",
       "      <th>Banheiros</th>\n",
       "      <th>Vagas</th>\n",
       "      <th>Valor</th>\n",
       "    </tr>\n",
       "  </thead>\n",
       "  <tbody>\n",
       "    <tr>\n",
       "      <th>7600</th>\n",
       "      <td>Rua Rubem de Souza, 36</td>\n",
       "      <td>Vila Inglesa</td>\n",
       "      <td>São Paulo</td>\n",
       "      <td>390</td>\n",
       "      <td>3</td>\n",
       "      <td>2</td>\n",
       "      <td>3</td>\n",
       "      <td>R$ 1.400.000</td>\n",
       "    </tr>\n",
       "    <tr>\n",
       "      <th>9473</th>\n",
       "      <td>NaN</td>\n",
       "      <td>Jardim Paulistano</td>\n",
       "      <td>São Paulo</td>\n",
       "      <td>300</td>\n",
       "      <td>4</td>\n",
       "      <td>3</td>\n",
       "      <td>4</td>\n",
       "      <td>R$ 3.300.000</td>\n",
       "    </tr>\n",
       "    <tr>\n",
       "      <th>4101</th>\n",
       "      <td>Rua Sérgio</td>\n",
       "      <td>Vila Marieta</td>\n",
       "      <td>São Paulo</td>\n",
       "      <td>198</td>\n",
       "      <td>3</td>\n",
       "      <td>4</td>\n",
       "      <td>3</td>\n",
       "      <td>R$ 1.100.000</td>\n",
       "    </tr>\n",
       "    <tr>\n",
       "      <th>1674</th>\n",
       "      <td>Rua Baiás</td>\n",
       "      <td>Boaçava</td>\n",
       "      <td>São Paulo</td>\n",
       "      <td>476</td>\n",
       "      <td>4</td>\n",
       "      <td>6</td>\n",
       "      <td>8</td>\n",
       "      <td>R$ 4.500.000</td>\n",
       "    </tr>\n",
       "    <tr>\n",
       "      <th>9701</th>\n",
       "      <td>Rua Benito Juarez</td>\n",
       "      <td>Vila Mariana</td>\n",
       "      <td>São Paulo</td>\n",
       "      <td>171</td>\n",
       "      <td>3</td>\n",
       "      <td>2</td>\n",
       "      <td>4</td>\n",
       "      <td>R$ 1.650.000</td>\n",
       "    </tr>\n",
       "    <tr>\n",
       "      <th>2343</th>\n",
       "      <td>Rua Manuel Galvão</td>\n",
       "      <td>Mooca</td>\n",
       "      <td>São Paulo</td>\n",
       "      <td>106</td>\n",
       "      <td>3</td>\n",
       "      <td>3</td>\n",
       "      <td>2</td>\n",
       "      <td>R$ 450.000</td>\n",
       "    </tr>\n",
       "    <tr>\n",
       "      <th>4370</th>\n",
       "      <td>Rua Armando Pinto</td>\n",
       "      <td>Sumarezinho</td>\n",
       "      <td>São Paulo</td>\n",
       "      <td>120</td>\n",
       "      <td>6</td>\n",
       "      <td>4</td>\n",
       "      <td>5</td>\n",
       "      <td>R$ 1.500.000</td>\n",
       "    </tr>\n",
       "    <tr>\n",
       "      <th>6918</th>\n",
       "      <td>NaN</td>\n",
       "      <td>Jardim Cordeiro</td>\n",
       "      <td>São Paulo</td>\n",
       "      <td>538</td>\n",
       "      <td>3</td>\n",
       "      <td>3</td>\n",
       "      <td>5</td>\n",
       "      <td>R$ 24.000\\n                      /Mês</td>\n",
       "    </tr>\n",
       "    <tr>\n",
       "      <th>3851</th>\n",
       "      <td>NaN</td>\n",
       "      <td>Vila Nova Conceição</td>\n",
       "      <td>São Paulo</td>\n",
       "      <td>215</td>\n",
       "      <td>3</td>\n",
       "      <td>2</td>\n",
       "      <td>4</td>\n",
       "      <td>R$ 5.250.000</td>\n",
       "    </tr>\n",
       "    <tr>\n",
       "      <th>4001</th>\n",
       "      <td>NaN</td>\n",
       "      <td>Vila Tramontano</td>\n",
       "      <td>São Paulo</td>\n",
       "      <td>845</td>\n",
       "      <td>6</td>\n",
       "      <td>10</td>\n",
       "      <td>7</td>\n",
       "      <td>R$ 8.900.000</td>\n",
       "    </tr>\n",
       "  </tbody>\n",
       "</table>\n",
       "</div>"
      ],
      "text/plain": [
       "                          Rua               Bairro     Cidade  Metragem  \\\n",
       "7600  Rua Rubem de Souza, 36          Vila Inglesa  São Paulo       390   \n",
       "9473                      NaN    Jardim Paulistano  São Paulo       300   \n",
       "4101               Rua Sérgio         Vila Marieta  São Paulo       198   \n",
       "1674                Rua Baiás              Boaçava  São Paulo       476   \n",
       "9701        Rua Benito Juarez         Vila Mariana  São Paulo       171   \n",
       "2343        Rua Manuel Galvão                Mooca  São Paulo       106   \n",
       "4370        Rua Armando Pinto          Sumarezinho  São Paulo       120   \n",
       "6918                      NaN      Jardim Cordeiro  São Paulo       538   \n",
       "3851                      NaN  Vila Nova Conceição  São Paulo       215   \n",
       "4001                      NaN      Vila Tramontano  São Paulo       845   \n",
       "\n",
       "      Quartos  Banheiros  Vagas                                  Valor  \n",
       "7600        3          2      3                           R$ 1.400.000  \n",
       "9473        4          3      4                           R$ 3.300.000  \n",
       "4101        3          4      3                           R$ 1.100.000  \n",
       "1674        4          6      8                           R$ 4.500.000  \n",
       "9701        3          2      4                           R$ 1.650.000  \n",
       "2343        3          3      2                             R$ 450.000  \n",
       "4370        6          4      5                           R$ 1.500.000  \n",
       "6918        3          3      5  R$ 24.000\\n                      /Mês  \n",
       "3851        3          2      4                           R$ 5.250.000  \n",
       "4001        6         10      7                           R$ 8.900.000  "
      ]
     },
     "execution_count": 3,
     "metadata": {},
     "output_type": "execute_result"
    }
   ],
   "source": [
    "dados.sample(10)#gera 10 numeros aleatorios"
   ]
  },
  {
   "cell_type": "code",
   "execution_count": 4,
   "metadata": {
    "colab": {
     "base_uri": "https://localhost:8080/"
    },
    "id": "Dxl7izRlHQA7",
    "outputId": "9fc95fbc-b681-4168-e3e4-319ee609a828"
   },
   "outputs": [
    {
     "name": "stdout",
     "output_type": "stream",
     "text": [
      "<class 'pandas.core.frame.DataFrame'>\n",
      "RangeIndex: 10008 entries, 0 to 10007\n",
      "Data columns (total 8 columns):\n",
      " #   Column     Non-Null Count  Dtype \n",
      "---  ------     --------------  ----- \n",
      " 0   Rua        6574 non-null   object\n",
      " 1   Bairro     9996 non-null   object\n",
      " 2   Cidade     10008 non-null  object\n",
      " 3   Metragem   10008 non-null  int64 \n",
      " 4   Quartos    10008 non-null  int64 \n",
      " 5   Banheiros  10008 non-null  int64 \n",
      " 6   Vagas      10008 non-null  int64 \n",
      " 7   Valor      10008 non-null  object\n",
      "dtypes: int64(4), object(4)\n",
      "memory usage: 625.6+ KB\n"
     ]
    }
   ],
   "source": [
    "dados.info() #ver qual tipo de cada coluna, precisamos fazer o tratamento para que valor seja int"
   ]
  },
  {
   "cell_type": "code",
   "execution_count": 5,
   "metadata": {
    "colab": {
     "base_uri": "https://localhost:8080/",
     "height": 35
    },
    "id": "8CHTeChIHQEG",
    "outputId": "f6f85870-7426-4f51-f7ba-682f7b49444d"
   },
   "outputs": [
    {
     "data": {
      "text/plain": [
       "'Vila Paulo Silas'"
      ]
     },
     "execution_count": 5,
     "metadata": {},
     "output_type": "execute_result"
    }
   ],
   "source": [
    "dados[\"Bairro\"][6522]#ponto especifico no DataFrame"
   ]
  },
  {
   "cell_type": "code",
   "execution_count": 6,
   "metadata": {
    "colab": {
     "base_uri": "https://localhost:8080/"
    },
    "id": "3Shv89uOHQGl",
    "outputId": "857e465c-45fe-4331-cd6c-2cb711cdcd47"
   },
   "outputs": [
    {
     "data": {
      "text/plain": [
       "442.30065947242207"
      ]
     },
     "execution_count": 6,
     "metadata": {},
     "output_type": "execute_result"
    }
   ],
   "source": [
    "dados.Metragem.mean()"
   ]
  },
  {
   "cell_type": "code",
   "execution_count": 7,
   "metadata": {
    "colab": {
     "base_uri": "https://localhost:8080/"
    },
    "id": "PA6SqFfNHQJW",
    "outputId": "5b588c7f-b278-45fd-9597-4c272407b507"
   },
   "outputs": [
    {
     "data": {
      "text/plain": [
       "442.30065947242207"
      ]
     },
     "execution_count": 7,
     "metadata": {},
     "output_type": "execute_result"
    }
   ],
   "source": [
    "dados[\"Metragem\"].mean()#tirar a média é usando .mean"
   ]
  },
  {
   "cell_type": "code",
   "execution_count": 8,
   "metadata": {
    "colab": {
     "base_uri": "https://localhost:8080/"
    },
    "id": "KDciHyUAHQL_",
    "outputId": "fb51863b-6586-4e43-d1ca-7318f32a02d8"
   },
   "outputs": [
    {
     "data": {
      "text/plain": [
       "184"
      ]
     },
     "execution_count": 8,
     "metadata": {},
     "output_type": "execute_result"
    }
   ],
   "source": [
    "sum((dados[\"Bairro\"] == \"Vila Mariana\")) #soma todos os bairros que tem a str citada"
   ]
  },
  {
   "cell_type": "code",
   "execution_count": 9,
   "metadata": {
    "colab": {
     "base_uri": "https://localhost:8080/"
    },
    "id": "-9_1JBFuHQOt",
    "outputId": "c880aa1a-d64f-4ea7-e03e-a89e0ab131ac"
   },
   "outputs": [
    {
     "data": {
      "text/plain": [
       "0        False\n",
       "1        False\n",
       "2        False\n",
       "3        False\n",
       "4        False\n",
       "         ...  \n",
       "10003    False\n",
       "10004    False\n",
       "10005    False\n",
       "10006    False\n",
       "10007    False\n",
       "Name: Bairro, Length: 10008, dtype: bool"
      ]
     },
     "execution_count": 9,
     "metadata": {},
     "output_type": "execute_result"
    }
   ],
   "source": [
    "tem_imoveis_vila =( dados[\"Bairro\"] == \"Vila Mariana\")\n",
    "tem_imoveis_vila #vai gerar uma tabela onde vai trazer todos os bairros, porém\n",
    "                #so os que tiverem \"Vila Mariana\" serão True = 1 (False=0)"
   ]
  },
  {
   "cell_type": "code",
   "execution_count": 10,
   "metadata": {
    "colab": {
     "base_uri": "https://localhost:8080/",
     "height": 424
    },
    "id": "C-LWNpwUHQRd",
    "outputId": "cea94f20-0e31-4896-ea6d-d3c0f7932e3a"
   },
   "outputs": [
    {
     "data": {
      "text/html": [
       "<div>\n",
       "<style scoped>\n",
       "    .dataframe tbody tr th:only-of-type {\n",
       "        vertical-align: middle;\n",
       "    }\n",
       "\n",
       "    .dataframe tbody tr th {\n",
       "        vertical-align: top;\n",
       "    }\n",
       "\n",
       "    .dataframe thead th {\n",
       "        text-align: right;\n",
       "    }\n",
       "</style>\n",
       "<table border=\"1\" class=\"dataframe\">\n",
       "  <thead>\n",
       "    <tr style=\"text-align: right;\">\n",
       "      <th></th>\n",
       "      <th>Rua</th>\n",
       "      <th>Bairro</th>\n",
       "      <th>Cidade</th>\n",
       "      <th>Metragem</th>\n",
       "      <th>Quartos</th>\n",
       "      <th>Banheiros</th>\n",
       "      <th>Vagas</th>\n",
       "      <th>Valor</th>\n",
       "    </tr>\n",
       "  </thead>\n",
       "  <tbody>\n",
       "    <tr>\n",
       "      <th>100</th>\n",
       "      <td>Rua Pero Correia</td>\n",
       "      <td>Vila Mariana</td>\n",
       "      <td>São Paulo</td>\n",
       "      <td>250</td>\n",
       "      <td>3</td>\n",
       "      <td>3</td>\n",
       "      <td>1</td>\n",
       "      <td>R$ 1.350.000</td>\n",
       "    </tr>\n",
       "    <tr>\n",
       "      <th>120</th>\n",
       "      <td>Praça Doutor Carvalho Franco</td>\n",
       "      <td>Vila Mariana</td>\n",
       "      <td>São Paulo</td>\n",
       "      <td>250</td>\n",
       "      <td>3</td>\n",
       "      <td>5</td>\n",
       "      <td>2</td>\n",
       "      <td>R$ 2.450.000</td>\n",
       "    </tr>\n",
       "    <tr>\n",
       "      <th>155</th>\n",
       "      <td>Rua Professor João Marinho</td>\n",
       "      <td>Vila Mariana</td>\n",
       "      <td>São Paulo</td>\n",
       "      <td>170</td>\n",
       "      <td>3</td>\n",
       "      <td>4</td>\n",
       "      <td>2</td>\n",
       "      <td>R$ 1.490.000</td>\n",
       "    </tr>\n",
       "    <tr>\n",
       "      <th>160</th>\n",
       "      <td>NaN</td>\n",
       "      <td>Vila Mariana</td>\n",
       "      <td>São Paulo</td>\n",
       "      <td>228</td>\n",
       "      <td>4</td>\n",
       "      <td>5</td>\n",
       "      <td>3</td>\n",
       "      <td>R$ 2.200.000</td>\n",
       "    </tr>\n",
       "    <tr>\n",
       "      <th>334</th>\n",
       "      <td>Rua Pero Correia, 892</td>\n",
       "      <td>Vila Mariana</td>\n",
       "      <td>São Paulo</td>\n",
       "      <td>350</td>\n",
       "      <td>6</td>\n",
       "      <td>4</td>\n",
       "      <td>10</td>\n",
       "      <td>R$ 1.700.000</td>\n",
       "    </tr>\n",
       "    <tr>\n",
       "      <th>...</th>\n",
       "      <td>...</td>\n",
       "      <td>...</td>\n",
       "      <td>...</td>\n",
       "      <td>...</td>\n",
       "      <td>...</td>\n",
       "      <td>...</td>\n",
       "      <td>...</td>\n",
       "      <td>...</td>\n",
       "    </tr>\n",
       "    <tr>\n",
       "      <th>9645</th>\n",
       "      <td>Rua Sousa Ramos</td>\n",
       "      <td>Vila Mariana</td>\n",
       "      <td>São Paulo</td>\n",
       "      <td>285</td>\n",
       "      <td>3</td>\n",
       "      <td>5</td>\n",
       "      <td>5</td>\n",
       "      <td>R$ 1.650.000</td>\n",
       "    </tr>\n",
       "    <tr>\n",
       "      <th>9701</th>\n",
       "      <td>Rua Benito Juarez</td>\n",
       "      <td>Vila Mariana</td>\n",
       "      <td>São Paulo</td>\n",
       "      <td>171</td>\n",
       "      <td>3</td>\n",
       "      <td>2</td>\n",
       "      <td>4</td>\n",
       "      <td>R$ 1.650.000</td>\n",
       "    </tr>\n",
       "    <tr>\n",
       "      <th>9737</th>\n",
       "      <td>Rua Benito Juarez</td>\n",
       "      <td>Vila Mariana</td>\n",
       "      <td>São Paulo</td>\n",
       "      <td>171</td>\n",
       "      <td>3</td>\n",
       "      <td>2</td>\n",
       "      <td>4</td>\n",
       "      <td>R$ 1.650.000</td>\n",
       "    </tr>\n",
       "    <tr>\n",
       "      <th>9807</th>\n",
       "      <td>NaN</td>\n",
       "      <td>Vila Mariana</td>\n",
       "      <td>São Paulo</td>\n",
       "      <td>275</td>\n",
       "      <td>3</td>\n",
       "      <td>1</td>\n",
       "      <td>6</td>\n",
       "      <td>R$ 1.500.000</td>\n",
       "    </tr>\n",
       "    <tr>\n",
       "      <th>9852</th>\n",
       "      <td>Rua França Pinto</td>\n",
       "      <td>Vila Mariana</td>\n",
       "      <td>São Paulo</td>\n",
       "      <td>280</td>\n",
       "      <td>3</td>\n",
       "      <td>3</td>\n",
       "      <td>4</td>\n",
       "      <td>R$ 1.600.000</td>\n",
       "    </tr>\n",
       "  </tbody>\n",
       "</table>\n",
       "<p>184 rows × 8 columns</p>\n",
       "</div>"
      ],
      "text/plain": [
       "                               Rua        Bairro     Cidade  Metragem  \\\n",
       "100               Rua Pero Correia  Vila Mariana  São Paulo       250   \n",
       "120   Praça Doutor Carvalho Franco  Vila Mariana  São Paulo       250   \n",
       "155     Rua Professor João Marinho  Vila Mariana  São Paulo       170   \n",
       "160                            NaN  Vila Mariana  São Paulo       228   \n",
       "334         Rua Pero Correia, 892   Vila Mariana  São Paulo       350   \n",
       "...                            ...           ...        ...       ...   \n",
       "9645               Rua Sousa Ramos  Vila Mariana  São Paulo       285   \n",
       "9701             Rua Benito Juarez  Vila Mariana  São Paulo       171   \n",
       "9737             Rua Benito Juarez  Vila Mariana  São Paulo       171   \n",
       "9807                           NaN  Vila Mariana  São Paulo       275   \n",
       "9852              Rua França Pinto  Vila Mariana  São Paulo       280   \n",
       "\n",
       "      Quartos  Banheiros  Vagas         Valor  \n",
       "100         3          3      1  R$ 1.350.000  \n",
       "120         3          5      2  R$ 2.450.000  \n",
       "155         3          4      2  R$ 1.490.000  \n",
       "160         4          5      3  R$ 2.200.000  \n",
       "334         6          4     10  R$ 1.700.000  \n",
       "...       ...        ...    ...           ...  \n",
       "9645        3          5      5  R$ 1.650.000  \n",
       "9701        3          2      4  R$ 1.650.000  \n",
       "9737        3          2      4  R$ 1.650.000  \n",
       "9807        3          1      6  R$ 1.500.000  \n",
       "9852        3          3      4  R$ 1.600.000  \n",
       "\n",
       "[184 rows x 8 columns]"
      ]
     },
     "execution_count": 10,
     "metadata": {},
     "output_type": "execute_result"
    }
   ],
   "source": [
    "imoveis_vila_mariana = dados[tem_imoveis_vila]\n",
    "imoveis_vila_mariana\n",
    "\n",
    "#dados[dados[\"Bairro\"] == \"Vila Mariana\"] \n",
    "#Outro Jeito"
   ]
  },
  {
   "cell_type": "code",
   "execution_count": 11,
   "metadata": {
    "colab": {
     "base_uri": "https://localhost:8080/"
    },
    "id": "qfO_33hkHhOb",
    "outputId": "ee1ab707-7435-47e0-af97-11177c13f98e"
   },
   "outputs": [
    {
     "data": {
      "text/plain": [
       "233.6195652173913"
      ]
     },
     "execution_count": 11,
     "metadata": {},
     "output_type": "execute_result"
    }
   ],
   "source": [
    "imoveis_vila_mariana[\"Metragem\"].mean()"
   ]
  },
  {
   "cell_type": "code",
   "execution_count": 12,
   "metadata": {
    "colab": {
     "base_uri": "https://localhost:8080/"
    },
    "id": "cN5u4F7pHhB-",
    "outputId": "ed298468-cdff-4631-8470-ea069ec7bb1f"
   },
   "outputs": [
    {
     "data": {
      "text/plain": [
       "Alto de Pinheiros     409\n",
       "Jardim Guedala        403\n",
       "Jardim Paulista       309\n",
       "Brooklin Paulista     247\n",
       "Jardim Europa         240\n",
       "                     ... \n",
       "Jardim das Imbuias      1\n",
       "Vila Represa            1\n",
       "Vila Nancy              1\n",
       "Sítio Represa           1\n",
       "Vila Invernada          1\n",
       "Name: Bairro, Length: 701, dtype: int64"
      ]
     },
     "execution_count": 12,
     "metadata": {},
     "output_type": "execute_result"
    }
   ],
   "source": [
    "dados[\"Bairro\"].value_counts()#Aqui consigo ver quantidade de imoveis em cada bairro e ter noção de quantos bairros tem"
   ]
  },
  {
   "cell_type": "code",
   "execution_count": 13,
   "metadata": {
    "colab": {
     "base_uri": "https://localhost:8080/",
     "height": 356
    },
    "id": "R4jB8kiAHg6n",
    "outputId": "a689e25f-5d02-4a85-b59a-7bb43415c565"
   },
   "outputs": [
    {
     "data": {
      "text/plain": [
       "<AxesSubplot:>"
      ]
     },
     "execution_count": 13,
     "metadata": {},
     "output_type": "execute_result"
    },
    {
     "data": {
      "image/png": "[encoded data removed]",
      "text/plain": [
       "<Figure size 432x288 with 1 Axes>"
      ]
     },
     "metadata": {
      "needs_background": "light"
     },
     "output_type": "display_data"
    }
   ],
   "source": [
    "n_imoveis_bairro = dados[\"Bairro\"].value_counts()\n",
    "n_imoveis_bairro.head(10).plot.bar()"
   ]
  },
  {
   "cell_type": "markdown",
   "metadata": {
    "id": "o4YEgv2nHopv"
   },
   "source": [
    "### **Desafios:**\n",
    "\n",
    "1 - Realizar a média da metragem para cadaa um dos bairros (Paulo)\n",
    "\n",
    "2 - 2 formas de selecionar os dados por bairro (consultar os métodos na \n",
    "documentação do pandas) (Thiago)\n",
    "\n",
    "3 - Explorar alguns gráficos na documentação e aplicar nas demais colunas do DF, tentar colocar alguma conclusão (Thiago)\n",
    "\n",
    "4 - Pegar outros estatísticas dos dados, média, mediana, mim, max (Vivi)\n",
    "\n",
    "5 - Descobrir quais são os bairros que não tem nome de Rua. (Vivi)"
   ]
  },
  {
   "cell_type": "markdown",
   "metadata": {
    "id": "wJeEmq7OfOpF"
   },
   "source": [
    "**# DESAFIO 1:**"
   ]
  },
  {
   "cell_type": "code",
   "execution_count": 14,
   "metadata": {
    "colab": {
     "base_uri": "https://localhost:8080/"
    },
    "id": "jLvW_mfNXGu-",
    "outputId": "c25d22a8-8c6d-4e79-eea8-b728b7766177"
   },
   "outputs": [
    {
     "data": {
      "text/plain": [
       "Bairro\n",
       "Sítio Represa                         37000.00\n",
       "Vila Castelo                           2850.00\n",
       "Jardim Guedala                         2486.64\n",
       "Jardim das Camélias                    1700.00\n",
       "Chácara Flora                          1260.73\n",
       "                                        ...   \n",
       "Cidade Antônio Estevão de Carvalho       57.50\n",
       "Jardim Nova Germania                     57.00\n",
       "Jardim Benfica                           48.00\n",
       "Vila Leonor                              46.00\n",
       "Vila Guaca                               10.00\n",
       "Name: Metragem, Length: 701, dtype: float64"
      ]
     },
     "execution_count": 14,
     "metadata": {},
     "output_type": "execute_result"
    }
   ],
   "source": [
    "# DESAFIO 1\n",
    "dados.groupby('Bairro').mean()['Metragem'].sort_values(ascending=False).round(2)\n",
    "                                           #Coloca média em decrecente, Arredonda para 2 casa decimais   "
   ]
  },
  {
   "cell_type": "code",
   "execution_count": 15,
   "metadata": {
    "colab": {
     "base_uri": "https://localhost:8080/",
     "height": 455
    },
    "id": "NRVZfJFhYEpY",
    "outputId": "d1e074ab-341f-45b4-a323-83ae8054d9d7"
   },
   "outputs": [
    {
     "data": {
      "text/html": [
       "<div>\n",
       "<style scoped>\n",
       "    .dataframe tbody tr th:only-of-type {\n",
       "        vertical-align: middle;\n",
       "    }\n",
       "\n",
       "    .dataframe tbody tr th {\n",
       "        vertical-align: top;\n",
       "    }\n",
       "\n",
       "    .dataframe thead th {\n",
       "        text-align: right;\n",
       "    }\n",
       "</style>\n",
       "<table border=\"1\" class=\"dataframe\">\n",
       "  <thead>\n",
       "    <tr style=\"text-align: right;\">\n",
       "      <th></th>\n",
       "      <th>count</th>\n",
       "      <th>mean</th>\n",
       "      <th>std</th>\n",
       "      <th>min</th>\n",
       "      <th>25%</th>\n",
       "      <th>50%</th>\n",
       "      <th>75%</th>\n",
       "      <th>max</th>\n",
       "    </tr>\n",
       "    <tr>\n",
       "      <th>Bairro</th>\n",
       "      <th></th>\n",
       "      <th></th>\n",
       "      <th></th>\n",
       "      <th></th>\n",
       "      <th></th>\n",
       "      <th></th>\n",
       "      <th></th>\n",
       "      <th></th>\n",
       "    </tr>\n",
       "  </thead>\n",
       "  <tbody>\n",
       "    <tr>\n",
       "      <th>Aclimação</th>\n",
       "      <td>88.0</td>\n",
       "      <td>253.06</td>\n",
       "      <td>159.14</td>\n",
       "      <td>104.0</td>\n",
       "      <td>165.00</td>\n",
       "      <td>227.5</td>\n",
       "      <td>300.00</td>\n",
       "      <td>1500.0</td>\n",
       "    </tr>\n",
       "    <tr>\n",
       "      <th>Alto da Boa Vista</th>\n",
       "      <td>8.0</td>\n",
       "      <td>418.88</td>\n",
       "      <td>111.88</td>\n",
       "      <td>315.0</td>\n",
       "      <td>347.50</td>\n",
       "      <td>378.0</td>\n",
       "      <td>448.75</td>\n",
       "      <td>595.0</td>\n",
       "    </tr>\n",
       "    <tr>\n",
       "      <th>Alto da Lapa</th>\n",
       "      <td>86.0</td>\n",
       "      <td>294.34</td>\n",
       "      <td>187.67</td>\n",
       "      <td>46.0</td>\n",
       "      <td>151.25</td>\n",
       "      <td>255.0</td>\n",
       "      <td>363.75</td>\n",
       "      <td>1133.0</td>\n",
       "    </tr>\n",
       "    <tr>\n",
       "      <th>Alto da Mooca</th>\n",
       "      <td>20.0</td>\n",
       "      <td>270.05</td>\n",
       "      <td>237.31</td>\n",
       "      <td>84.0</td>\n",
       "      <td>133.75</td>\n",
       "      <td>182.5</td>\n",
       "      <td>221.25</td>\n",
       "      <td>805.0</td>\n",
       "    </tr>\n",
       "    <tr>\n",
       "      <th>Alto de Pinheiros</th>\n",
       "      <td>409.0</td>\n",
       "      <td>433.44</td>\n",
       "      <td>145.68</td>\n",
       "      <td>100.0</td>\n",
       "      <td>344.00</td>\n",
       "      <td>412.0</td>\n",
       "      <td>505.00</td>\n",
       "      <td>1530.0</td>\n",
       "    </tr>\n",
       "    <tr>\n",
       "      <th>...</th>\n",
       "      <td>...</td>\n",
       "      <td>...</td>\n",
       "      <td>...</td>\n",
       "      <td>...</td>\n",
       "      <td>...</td>\n",
       "      <td>...</td>\n",
       "      <td>...</td>\n",
       "      <td>...</td>\n",
       "    </tr>\n",
       "    <tr>\n",
       "      <th>Vila Água Funda</th>\n",
       "      <td>5.0</td>\n",
       "      <td>152.20</td>\n",
       "      <td>44.35</td>\n",
       "      <td>90.0</td>\n",
       "      <td>138.00</td>\n",
       "      <td>143.0</td>\n",
       "      <td>190.00</td>\n",
       "      <td>200.0</td>\n",
       "    </tr>\n",
       "    <tr>\n",
       "      <th>Água Branca</th>\n",
       "      <td>13.0</td>\n",
       "      <td>191.00</td>\n",
       "      <td>91.05</td>\n",
       "      <td>91.0</td>\n",
       "      <td>143.00</td>\n",
       "      <td>174.0</td>\n",
       "      <td>200.00</td>\n",
       "      <td>400.0</td>\n",
       "    </tr>\n",
       "    <tr>\n",
       "      <th>Água Fria</th>\n",
       "      <td>12.0</td>\n",
       "      <td>165.42</td>\n",
       "      <td>82.93</td>\n",
       "      <td>60.0</td>\n",
       "      <td>76.25</td>\n",
       "      <td>174.5</td>\n",
       "      <td>210.50</td>\n",
       "      <td>314.0</td>\n",
       "    </tr>\n",
       "    <tr>\n",
       "      <th>Água Funda</th>\n",
       "      <td>2.0</td>\n",
       "      <td>139.00</td>\n",
       "      <td>19.80</td>\n",
       "      <td>125.0</td>\n",
       "      <td>132.00</td>\n",
       "      <td>139.0</td>\n",
       "      <td>146.00</td>\n",
       "      <td>153.0</td>\n",
       "    </tr>\n",
       "    <tr>\n",
       "      <th>Água Rasa</th>\n",
       "      <td>8.0</td>\n",
       "      <td>340.25</td>\n",
       "      <td>294.05</td>\n",
       "      <td>86.0</td>\n",
       "      <td>172.50</td>\n",
       "      <td>180.0</td>\n",
       "      <td>455.75</td>\n",
       "      <td>805.0</td>\n",
       "    </tr>\n",
       "  </tbody>\n",
       "</table>\n",
       "<p>701 rows × 8 columns</p>\n",
       "</div>"
      ],
      "text/plain": [
       "                   count    mean     std    min     25%    50%     75%     max\n",
       "Bairro                                                                        \n",
       "Aclimação           88.0  253.06  159.14  104.0  165.00  227.5  300.00  1500.0\n",
       "Alto da Boa Vista    8.0  418.88  111.88  315.0  347.50  378.0  448.75   595.0\n",
       "Alto da Lapa        86.0  294.34  187.67   46.0  151.25  255.0  363.75  1133.0\n",
       "Alto da Mooca       20.0  270.05  237.31   84.0  133.75  182.5  221.25   805.0\n",
       "Alto de Pinheiros  409.0  433.44  145.68  100.0  344.00  412.0  505.00  1530.0\n",
       "...                  ...     ...     ...    ...     ...    ...     ...     ...\n",
       "Vila Água Funda      5.0  152.20   44.35   90.0  138.00  143.0  190.00   200.0\n",
       "Água Branca         13.0  191.00   91.05   91.0  143.00  174.0  200.00   400.0\n",
       "Água Fria           12.0  165.42   82.93   60.0   76.25  174.5  210.50   314.0\n",
       "Água Funda           2.0  139.00   19.80  125.0  132.00  139.0  146.00   153.0\n",
       "Água Rasa            8.0  340.25  294.05   86.0  172.50  180.0  455.75   805.0\n",
       "\n",
       "[701 rows x 8 columns]"
      ]
     },
     "execution_count": 15,
     "metadata": {},
     "output_type": "execute_result"
    }
   ],
   "source": [
    "dados.groupby('Bairro')['Metragem'].describe().round(2) #Onde Count é quantidade de Bairros\n",
    "\n"
   ]
  },
  {
   "cell_type": "markdown",
   "metadata": {
    "id": "I5mQ4eMjfH1h"
   },
   "source": [
    "**# DESAFIO 2:**"
   ]
  },
  {
   "cell_type": "code",
   "execution_count": 16,
   "metadata": {
    "colab": {
     "base_uri": "https://localhost:8080/",
     "height": 424
    },
    "id": "Okbekp_CZggq",
    "outputId": "64764421-5b46-413e-e5ba-502be1fccca3"
   },
   "outputs": [
    {
     "data": {
      "text/html": [
       "<div>\n",
       "<style scoped>\n",
       "    .dataframe tbody tr th:only-of-type {\n",
       "        vertical-align: middle;\n",
       "    }\n",
       "\n",
       "    .dataframe tbody tr th {\n",
       "        vertical-align: top;\n",
       "    }\n",
       "\n",
       "    .dataframe thead th {\n",
       "        text-align: right;\n",
       "    }\n",
       "</style>\n",
       "<table border=\"1\" class=\"dataframe\">\n",
       "  <thead>\n",
       "    <tr style=\"text-align: right;\">\n",
       "      <th></th>\n",
       "      <th>Rua</th>\n",
       "      <th>Bairro</th>\n",
       "      <th>Cidade</th>\n",
       "      <th>Metragem</th>\n",
       "      <th>Quartos</th>\n",
       "      <th>Banheiros</th>\n",
       "      <th>Vagas</th>\n",
       "      <th>Valor</th>\n",
       "    </tr>\n",
       "  </thead>\n",
       "  <tbody>\n",
       "    <tr>\n",
       "      <th>23</th>\n",
       "      <td>Rua Aldo de Azevedo</td>\n",
       "      <td>Vila Madalena</td>\n",
       "      <td>São Paulo</td>\n",
       "      <td>170</td>\n",
       "      <td>2</td>\n",
       "      <td>2</td>\n",
       "      <td>1</td>\n",
       "      <td>R$ 1.485.000</td>\n",
       "    </tr>\n",
       "    <tr>\n",
       "      <th>39</th>\n",
       "      <td>Rua Gregório Paes de Almeida</td>\n",
       "      <td>Vila Madalena</td>\n",
       "      <td>São Paulo</td>\n",
       "      <td>401</td>\n",
       "      <td>5</td>\n",
       "      <td>9</td>\n",
       "      <td>4</td>\n",
       "      <td>R$ 3.890.000</td>\n",
       "    </tr>\n",
       "    <tr>\n",
       "      <th>119</th>\n",
       "      <td>Rua dos Tamanás</td>\n",
       "      <td>Vila Madalena</td>\n",
       "      <td>São Paulo</td>\n",
       "      <td>440</td>\n",
       "      <td>4</td>\n",
       "      <td>5</td>\n",
       "      <td>4</td>\n",
       "      <td>R$ 3.950.000</td>\n",
       "    </tr>\n",
       "    <tr>\n",
       "      <th>138</th>\n",
       "      <td>NaN</td>\n",
       "      <td>Vila Madalena</td>\n",
       "      <td>São Paulo</td>\n",
       "      <td>534</td>\n",
       "      <td>5</td>\n",
       "      <td>6</td>\n",
       "      <td>5</td>\n",
       "      <td>R$ 4.500.000</td>\n",
       "    </tr>\n",
       "    <tr>\n",
       "      <th>167</th>\n",
       "      <td>Rua Judith</td>\n",
       "      <td>Vila Madalena</td>\n",
       "      <td>São Paulo</td>\n",
       "      <td>146</td>\n",
       "      <td>3</td>\n",
       "      <td>2</td>\n",
       "      <td>2</td>\n",
       "      <td>R$ 1.550.000</td>\n",
       "    </tr>\n",
       "    <tr>\n",
       "      <th>...</th>\n",
       "      <td>...</td>\n",
       "      <td>...</td>\n",
       "      <td>...</td>\n",
       "      <td>...</td>\n",
       "      <td>...</td>\n",
       "      <td>...</td>\n",
       "      <td>...</td>\n",
       "      <td>...</td>\n",
       "    </tr>\n",
       "    <tr>\n",
       "      <th>9326</th>\n",
       "      <td>Rua Alvilândia</td>\n",
       "      <td>Vila Madalena</td>\n",
       "      <td>São Paulo</td>\n",
       "      <td>380</td>\n",
       "      <td>7</td>\n",
       "      <td>5</td>\n",
       "      <td>2</td>\n",
       "      <td>R$ 2.900.000</td>\n",
       "    </tr>\n",
       "    <tr>\n",
       "      <th>9396</th>\n",
       "      <td>Rua Professor Nova Gomes</td>\n",
       "      <td>Vila Madalena</td>\n",
       "      <td>São Paulo</td>\n",
       "      <td>407</td>\n",
       "      <td>3</td>\n",
       "      <td>6</td>\n",
       "      <td>4</td>\n",
       "      <td>R$ 3.000.000</td>\n",
       "    </tr>\n",
       "    <tr>\n",
       "      <th>9484</th>\n",
       "      <td>NaN</td>\n",
       "      <td>Vila Madalena</td>\n",
       "      <td>São Paulo</td>\n",
       "      <td>385</td>\n",
       "      <td>7</td>\n",
       "      <td>5</td>\n",
       "      <td>6</td>\n",
       "      <td>R$ 2.900.000</td>\n",
       "    </tr>\n",
       "    <tr>\n",
       "      <th>9626</th>\n",
       "      <td>NaN</td>\n",
       "      <td>Vila Madalena</td>\n",
       "      <td>São Paulo</td>\n",
       "      <td>385</td>\n",
       "      <td>7</td>\n",
       "      <td>5</td>\n",
       "      <td>6</td>\n",
       "      <td>R$ 2.900.000</td>\n",
       "    </tr>\n",
       "    <tr>\n",
       "      <th>9649</th>\n",
       "      <td>Rua Caraúna</td>\n",
       "      <td>Vila Madalena</td>\n",
       "      <td>São Paulo</td>\n",
       "      <td>632</td>\n",
       "      <td>4</td>\n",
       "      <td>5</td>\n",
       "      <td>5</td>\n",
       "      <td>R$ 7.000.000</td>\n",
       "    </tr>\n",
       "  </tbody>\n",
       "</table>\n",
       "<p>224 rows × 8 columns</p>\n",
       "</div>"
      ],
      "text/plain": [
       "                               Rua         Bairro     Cidade  Metragem  \\\n",
       "23             Rua Aldo de Azevedo  Vila Madalena  São Paulo       170   \n",
       "39    Rua Gregório Paes de Almeida  Vila Madalena  São Paulo       401   \n",
       "119                Rua dos Tamanás  Vila Madalena  São Paulo       440   \n",
       "138                            NaN  Vila Madalena  São Paulo       534   \n",
       "167                     Rua Judith  Vila Madalena  São Paulo       146   \n",
       "...                            ...            ...        ...       ...   \n",
       "9326                Rua Alvilândia  Vila Madalena  São Paulo       380   \n",
       "9396      Rua Professor Nova Gomes  Vila Madalena  São Paulo       407   \n",
       "9484                           NaN  Vila Madalena  São Paulo       385   \n",
       "9626                           NaN  Vila Madalena  São Paulo       385   \n",
       "9649                   Rua Caraúna  Vila Madalena  São Paulo       632   \n",
       "\n",
       "      Quartos  Banheiros  Vagas         Valor  \n",
       "23          2          2      1  R$ 1.485.000  \n",
       "39          5          9      4  R$ 3.890.000  \n",
       "119         4          5      4  R$ 3.950.000  \n",
       "138         5          6      5  R$ 4.500.000  \n",
       "167         3          2      2  R$ 1.550.000  \n",
       "...       ...        ...    ...           ...  \n",
       "9326        7          5      2  R$ 2.900.000  \n",
       "9396        3          6      4  R$ 3.000.000  \n",
       "9484        7          5      6  R$ 2.900.000  \n",
       "9626        7          5      6  R$ 2.900.000  \n",
       "9649        4          5      5  R$ 7.000.000  \n",
       "\n",
       "[224 rows x 8 columns]"
      ]
     },
     "execution_count": 16,
     "metadata": {},
     "output_type": "execute_result"
    }
   ],
   "source": [
    "# DESAFIO 2\n",
    "\n",
    "#Forma 01 - Consultar entradas de um bairro específico:\n",
    "bairro = dados[dados['Bairro'] == \"Vila Madalena\"] \n",
    "bairro\n"
   ]
  },
  {
   "cell_type": "code",
   "execution_count": 17,
   "metadata": {
    "colab": {
     "base_uri": "https://localhost:8080/"
    },
    "id": "KJTiYI7Acxnw",
    "outputId": "dfcca3ec-ea99-4139-96d0-7db21aab8426"
   },
   "outputs": [
    {
     "data": {
      "text/plain": [
       "Rua          Avenida Itacira, 255 \n",
       "Bairro           Planalto Paulista\n",
       "Cidade                   São Paulo\n",
       "Metragem                      1000\n",
       "Quartos                          4\n",
       "Banheiros                        8\n",
       "Vagas                            6\n",
       "Valor                 R$ 7.000.000\n",
       "Name: 0, dtype: object"
      ]
     },
     "execution_count": 17,
     "metadata": {},
     "output_type": "execute_result"
    }
   ],
   "source": [
    "#Forma 02 - Localizar os dados de uma linha\n",
    "\n",
    "dados.iloc[0,:]\n",
    "#[] =  Lista, você pode escolher de qual numero a qual numero pode ver [x:y] ou\n",
    "# Apenas uma única linha [x,:], existem outras maneiras"
   ]
  },
  {
   "cell_type": "markdown",
   "metadata": {
    "id": "vp6X_gBaevUL"
   },
   "source": [
    "**# DESAFIO 3:**"
   ]
  },
  {
   "cell_type": "code",
   "execution_count": 18,
   "metadata": {
    "colab": {
     "base_uri": "https://localhost:8080/",
     "height": 417
    },
    "id": "A9xSX4OqUHt5",
    "outputId": "6889f5af-4442-49d8-d931-4b9e6724ba17"
   },
   "outputs": [
    {
     "data": {
      "text/plain": [
       "<AxesSubplot:xlabel='Bairro'>"
      ]
     },
     "execution_count": 18,
     "metadata": {},
     "output_type": "execute_result"
    },
    {
     "data": {
      "image/png": "[encoded data removed]",
      "text/plain": [
       "<Figure size 432x288 with 1 Axes>"
      ]
     },
     "metadata": {
      "needs_background": "light"
     },
     "output_type": "display_data"
    }
   ],
   "source": [
    "#DESAFIO 3\n",
    "\n",
    "dados[['Quartos','Banheiros', 'Bairro']].sample(10).groupby('Bairro').mean().plot.bar()\n",
    "\n",
    "#plot(x='Bairro',linestyle='--', marker='o')"
   ]
  },
  {
   "cell_type": "markdown",
   "metadata": {
    "id": "KdTp7M4pn0if"
   },
   "source": [
    "Grafico em questão mostra a média, onde Bairro X, costumam ter uma quantidade Y de Banheiros e uma quantidade Z de Quartos (Lembrando são médias)"
   ]
  },
  {
   "cell_type": "code",
   "execution_count": 19,
   "metadata": {
    "colab": {
     "base_uri": "https://localhost:8080/",
     "height": 296
    },
    "id": "_F2xkyPrm9Nv",
    "outputId": "1a9a67b6-73d9-4166-f216-093623c89000"
   },
   "outputs": [
    {
     "data": {
      "text/plain": [
       "<AxesSubplot:xlabel='Bairro'>"
      ]
     },
     "execution_count": 19,
     "metadata": {},
     "output_type": "execute_result"
    },
    {
     "data": {
      "image/png": "[encoded data removed]",
      "text/plain": [
       "<Figure size 432x288 with 1 Axes>"
      ]
     },
     "metadata": {
      "needs_background": "light"
     },
     "output_type": "display_data"
    }
   ],
   "source": [
    "dados[['Banheiros','Metragem', 'Bairro']].sample(5).groupby('Bairro').mean().plot.line(linestyle='--', marker='o')\n"
   ]
  },
  {
   "cell_type": "markdown",
   "metadata": {
    "id": "7dXBAsKUm0CJ"
   },
   "source": [
    "**# DESAFIO 4:**"
   ]
  },
  {
   "cell_type": "code",
   "execution_count": 20,
   "metadata": {
    "colab": {
     "base_uri": "https://localhost:8080/",
     "height": 300
    },
    "id": "_qnueTzRmvNk",
    "outputId": "77e2823a-b34a-4843-96a0-51b5449081c9"
   },
   "outputs": [
    {
     "data": {
      "text/html": [
       "<div>\n",
       "<style scoped>\n",
       "    .dataframe tbody tr th:only-of-type {\n",
       "        vertical-align: middle;\n",
       "    }\n",
       "\n",
       "    .dataframe tbody tr th {\n",
       "        vertical-align: top;\n",
       "    }\n",
       "\n",
       "    .dataframe thead th {\n",
       "        text-align: right;\n",
       "    }\n",
       "</style>\n",
       "<table border=\"1\" class=\"dataframe\">\n",
       "  <thead>\n",
       "    <tr style=\"text-align: right;\">\n",
       "      <th></th>\n",
       "      <th>Metragem</th>\n",
       "      <th>Quartos</th>\n",
       "      <th>Banheiros</th>\n",
       "      <th>Vagas</th>\n",
       "    </tr>\n",
       "  </thead>\n",
       "  <tbody>\n",
       "    <tr>\n",
       "      <th>count</th>\n",
       "      <td>10008.00</td>\n",
       "      <td>10008.00</td>\n",
       "      <td>10008.00</td>\n",
       "      <td>10008.00</td>\n",
       "    </tr>\n",
       "    <tr>\n",
       "      <th>mean</th>\n",
       "      <td>442.30</td>\n",
       "      <td>3.48</td>\n",
       "      <td>3.88</td>\n",
       "      <td>4.10</td>\n",
       "    </tr>\n",
       "    <tr>\n",
       "      <th>std</th>\n",
       "      <td>7515.38</td>\n",
       "      <td>1.06</td>\n",
       "      <td>1.99</td>\n",
       "      <td>2.82</td>\n",
       "    </tr>\n",
       "    <tr>\n",
       "      <th>min</th>\n",
       "      <td>10.00</td>\n",
       "      <td>1.00</td>\n",
       "      <td>1.00</td>\n",
       "      <td>1.00</td>\n",
       "    </tr>\n",
       "    <tr>\n",
       "      <th>25%</th>\n",
       "      <td>173.00</td>\n",
       "      <td>3.00</td>\n",
       "      <td>2.00</td>\n",
       "      <td>2.00</td>\n",
       "    </tr>\n",
       "    <tr>\n",
       "      <th>50%</th>\n",
       "      <td>290.00</td>\n",
       "      <td>3.00</td>\n",
       "      <td>4.00</td>\n",
       "      <td>4.00</td>\n",
       "    </tr>\n",
       "    <tr>\n",
       "      <th>75%</th>\n",
       "      <td>460.25</td>\n",
       "      <td>4.00</td>\n",
       "      <td>5.00</td>\n",
       "      <td>5.00</td>\n",
       "    </tr>\n",
       "    <tr>\n",
       "      <th>max</th>\n",
       "      <td>750000.00</td>\n",
       "      <td>16.00</td>\n",
       "      <td>40.00</td>\n",
       "      <td>50.00</td>\n",
       "    </tr>\n",
       "  </tbody>\n",
       "</table>\n",
       "</div>"
      ],
      "text/plain": [
       "        Metragem   Quartos  Banheiros     Vagas\n",
       "count   10008.00  10008.00   10008.00  10008.00\n",
       "mean      442.30      3.48       3.88      4.10\n",
       "std      7515.38      1.06       1.99      2.82\n",
       "min        10.00      1.00       1.00      1.00\n",
       "25%       173.00      3.00       2.00      2.00\n",
       "50%       290.00      3.00       4.00      4.00\n",
       "75%       460.25      4.00       5.00      5.00\n",
       "max    750000.00     16.00      40.00     50.00"
      ]
     },
     "execution_count": 20,
     "metadata": {},
     "output_type": "execute_result"
    }
   ],
   "source": [
    "#DESAFIO 4 ()\n",
    "\n",
    "dados[['Metragem', 'Quartos', 'Banheiros', 'Vagas']].describe().round(2)"
   ]
  },
  {
   "cell_type": "code",
   "execution_count": 21,
   "metadata": {
    "colab": {
     "base_uri": "https://localhost:8080/"
    },
    "id": "WZqP6sohpGBy",
    "outputId": "e9ef3e59-1b4a-4982-a706-024e58bcd252"
   },
   "outputs": [
    {
     "name": "stdout",
     "output_type": "stream",
     "text": [
      "A MEDIANA dos dados do DF: \n",
      "Metragem     290.0\n",
      "Quartos        3.0\n",
      "Banheiros      4.0\n",
      "Vagas          4.0\n",
      "dtype: float64\n"
     ]
    }
   ],
   "source": [
    "# Mediana\n",
    "mediana = dados[['Metragem', 'Quartos', 'Banheiros', 'Vagas']].median().round(2)\n",
    "print(f'A MEDIANA dos dados do DF: \\n{mediana}')"
   ]
  },
  {
   "cell_type": "code",
   "execution_count": 22,
   "metadata": {
    "colab": {
     "base_uri": "https://localhost:8080/"
    },
    "id": "wSzIAbdUpQjn",
    "outputId": "e1499e41-dba9-4942-eaab-490fb79e0aa5"
   },
   "outputs": [
    {
     "name": "stdout",
     "output_type": "stream",
     "text": [
      "A MAXIMO dos dados é: \n",
      "Metragem     750000\n",
      "Quartos          16\n",
      "Banheiros        40\n",
      "Vagas            50\n",
      "dtype: int64\n"
     ]
    }
   ],
   "source": [
    "# Max\n",
    "maxi = dados[['Metragem', 'Quartos', 'Banheiros', 'Vagas']].max().round(2)\n",
    "print(f'A MAXIMO dos dados é: \\n{maxi}')"
   ]
  },
  {
   "cell_type": "code",
   "execution_count": 23,
   "metadata": {
    "colab": {
     "base_uri": "https://localhost:8080/"
    },
    "id": "WTV8TnLQpnS4",
    "outputId": "49b9f649-468b-428b-ff29-0ae515ff1ad3"
   },
   "outputs": [
    {
     "name": "stdout",
     "output_type": "stream",
     "text": [
      "O MINIMO dos dados é: \n",
      "Metragem     10\n",
      "Quartos       1\n",
      "Banheiros     1\n",
      "Vagas         1\n",
      "dtype: int64\n"
     ]
    }
   ],
   "source": [
    "# Min\n",
    "mini = dados[['Metragem', 'Quartos', 'Banheiros', 'Vagas']].min().round(2)\n",
    "print(f'O MINIMO dos dados é: \\n{mini}')"
   ]
  },
  {
   "cell_type": "markdown",
   "metadata": {
    "id": "c5_fXcqof7CA"
   },
   "source": [
    "**# DESAFIO 5:**"
   ]
  },
  {
   "cell_type": "code",
   "execution_count": 24,
   "metadata": {
    "colab": {
     "base_uri": "https://localhost:8080/"
    },
    "id": "XWJHSNDUO87W",
    "outputId": "650bd922-22be-4beb-fb70-e88de41886cf"
   },
   "outputs": [
    {
     "data": {
      "text/plain": [
       "Jardim Guedala                      190\n",
       "Alto de Pinheiros                   169\n",
       "Jardim Paulista                     138\n",
       "Jardim Europa                       128\n",
       "Jardim Leonor                       118\n",
       "                                   ... \n",
       "Jardim do Colégio (Zona Norte)        1\n",
       "Alto da Boa Vista                     1\n",
       "Jardim Aeroporto                      1\n",
       "Conjunto Residencial Vista Verde      1\n",
       "Jardim Santo Elias                    1\n",
       "Name: Bairro, Length: 394, dtype: int64"
      ]
     },
     "execution_count": 24,
     "metadata": {},
     "output_type": "execute_result"
    }
   ],
   "source": [
    "#DESAFIO 5 (VIVI)\n",
    "\n",
    "#dados[dados['Rua'].isna()]['Bairro'].value_counts() \n",
    "# OU\n",
    "rua_send = dados[\"Rua\"].isnull()\n",
    "rua_send = dados['Bairro'][rua_send].value_counts()\n",
    "rua_send"
   ]
  }
 ],
 "metadata": {
  "colab": {
   "collapsed_sections": [],
   "name": "Imersao_dados_4_aula01.ipynb",
   "provenance": []
  },
  "kernelspec": {
   "display_name": "Python 3 (ipykernel)",
   "language": "python",
   "name": "python3"
  },
  "language_info": {
   "codemirror_mode": {
    "name": "ipython",
    "version": 3
   },
   "file_extension": ".py",
   "mimetype": "text/x-python",
   "name": "python",
   "nbconvert_exporter": "python",
   "pygments_lexer": "ipython3",
   "version": "3.9.7"
  }
 },
 "nbformat": 4,
 "nbformat_minor": 1
}
